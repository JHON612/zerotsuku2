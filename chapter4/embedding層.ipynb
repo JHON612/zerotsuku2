{
 "cells": [
  {
   "cell_type": "markdown",
   "id": "32b7f2d8-0321-4506-b2d1-865e59e533cd",
   "metadata": {},
   "source": [
    "### embeddingレイヤ"
   ]
  },
  {
   "cell_type": "code",
   "execution_count": 8,
   "id": "d4a9ab8a-93f5-4a2b-b918-61ef26d3da68",
   "metadata": {
    "tags": []
   },
   "outputs": [],
   "source": [
    "#class MatMul:\n",
    " #   def __init__(self, W):\n",
    " #      self.params = [W]\n",
    " #       self.grads = [np.zeros_like(W)]\n",
    " #       self.x = None\n",
    "\n",
    " #    def forward(self, x):\n",
    " #       W, = self.params\n",
    " #       out = np.dot(x, W)\n",
    " #       self.x = x\n",
    " #       return out\n",
    "\n",
    " #   def backward(self, dout):\n",
    " #       W, = self.params\n",
    " #       dx = np.dot(dout, W.T)\n",
    " #       dW = np.dot(self.x.T, dout)\n",
    " #       self.grads[0][...] = dW\n",
    " #       return dx\n",
    "\n",
    "\n",
    "\n",
    "\n",
    "#class Embedding:\n",
    " #   def __init__(self, W):\n",
    " #       self.params = [W]\n",
    " #       self.grads = [np.zeros_like(W)]\n",
    " #       self.idx = None\n",
    "\n",
    " #    def forward(self, idx):\n",
    " #       W, = self.params\n",
    " #       self.idx = idx \n",
    " #       out = W[idx] \n",
    " #       return out\n",
    "\n",
    " #   def backward(self, dout):\n",
    " #       dW, = self.grads\n",
    " #       dW[...] = 0\n",
    " #       if GPU:\n",
    " #           np.scatter_add(dW, self.idx, dout)\n",
    " #       else:\n",
    " #           np.add.at(dW, self.idx, dout)\n",
    " #       return None"
   ]
  },
  {
   "cell_type": "code",
   "execution_count": null,
   "id": "36bac77c-03dc-4afc-af16-69fa72525119",
   "metadata": {},
   "outputs": [],
   "source": []
  },
  {
   "cell_type": "code",
   "execution_count": null,
   "id": "7149d47d-91a2-40c0-b4de-6959eb31f0c8",
   "metadata": {},
   "outputs": [],
   "source": []
  }
 ],
 "metadata": {
  "kernelspec": {
   "display_name": "Python 3 (ipykernel)",
   "language": "python",
   "name": "python3"
  },
  "language_info": {
   "codemirror_mode": {
    "name": "ipython",
    "version": 3
   },
   "file_extension": ".py",
   "mimetype": "text/x-python",
   "name": "python",
   "nbconvert_exporter": "python",
   "pygments_lexer": "ipython3",
   "version": "3.9.12"
  }
 },
 "nbformat": 4,
 "nbformat_minor": 5
}
