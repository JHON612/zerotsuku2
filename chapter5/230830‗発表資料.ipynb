{
 "cells": [
  {
   "cell_type": "markdown",
   "id": "e1d5c019-fd16-4592-ac8f-54bedbc43f42",
   "metadata": {},
   "source": [
    "##  前回の復習\n"
   ]
  },
  {
   "cell_type": "markdown",
   "id": "678677be-557e-431e-8f80-0de57c3fd248",
   "metadata": {},
   "source": [
    "##### 言語モデルのRNNの実装する際の流れは次の通り\n",
    "##### 4つのTimeレイヤ層を重ねたニューラルネットワークになっている。"
   ]
  },
  {
   "attachments": {
    "d0a1e7f0-1e76-4f1f-bcb4-de71ea02de6c.png": {
     "image/png": "[encoded data removed]"
    }
   },
   "cell_type": "markdown",
   "id": "1f9a621d-4e78-45df-a4e9-bfebe7a9023c",
   "metadata": {},
   "source": [
    "![image.png](attachment:d0a1e7f0-1e76-4f1f-bcb4-de71ea02de6c.png)"
   ]
  },
  {
   "cell_type": "code",
   "execution_count": 1,
   "id": "9a42e8b6-01d5-4956-a05b-f513eb4d90e6",
   "metadata": {
    "collapsed": true,
    "jupyter": {
     "outputs_hidden": true
    },
    "tags": []
   },
   "outputs": [
    {
     "ename": "ModuleNotFoundError",
     "evalue": "No module named 'common'",
     "output_type": "error",
     "traceback": [
      "\u001b[1;31m---------------------------------------------------------------------------\u001b[0m",
      "\u001b[1;31mModuleNotFoundError\u001b[0m                       Traceback (most recent call last)",
      "Input \u001b[1;32mIn [1]\u001b[0m, in \u001b[0;36m<cell line: 4>\u001b[1;34m()\u001b[0m\n\u001b[0;32m      2\u001b[0m sys\u001b[38;5;241m.\u001b[39mpath\u001b[38;5;241m.\u001b[39mappend(\u001b[38;5;124m'\u001b[39m\u001b[38;5;124m..\u001b[39m\u001b[38;5;124m'\u001b[39m)\n\u001b[0;32m      3\u001b[0m \u001b[38;5;28;01mimport\u001b[39;00m \u001b[38;5;21;01mnumpy\u001b[39;00m \u001b[38;5;28;01mas\u001b[39;00m \u001b[38;5;21;01mnp\u001b[39;00m\n\u001b[1;32m----> 4\u001b[0m \u001b[38;5;28;01mfrom\u001b[39;00m \u001b[38;5;21;01mcommon\u001b[39;00m\u001b[38;5;21;01m.\u001b[39;00m\u001b[38;5;21;01mtime_layers\u001b[39;00m \u001b[38;5;28;01mimport\u001b[39;00m \u001b[38;5;241m*\u001b[39m\n\u001b[0;32m      7\u001b[0m \u001b[38;5;28;01mclass\u001b[39;00m \u001b[38;5;21;01mSimpleRnnlm\u001b[39;00m:\n\u001b[0;32m      8\u001b[0m     \u001b[38;5;28;01mdef\u001b[39;00m \u001b[38;5;21m__init__\u001b[39m(\u001b[38;5;28mself\u001b[39m, vocab_size, wordvec_size, hidden_size):\n",
      "\u001b[1;31mModuleNotFoundError\u001b[0m: No module named 'common'"
     ]
    }
   ],
   "source": [
    "import sys\n",
    "sys.path.append('..')\n",
    "import numpy as np\n",
    "from common.time_layers import *\n",
    "\n",
    "\n",
    "class SimpleRnnlm:\n",
    "    def __init__(self, vocab_size, wordvec_size, hidden_size):\n",
    "        V, D, H = vocab_size, wordvec_size, hidden_size\n",
    "        rn = np.random.randn\n",
    "\n",
    "        # 重みの初期化\n",
    "        embed_W = (rn(V, D) / 100).astype('f') #Embedding層用の重みを初期化\n",
    "        rnn_Wx = (rn(D, H) / np.sqrt(D)).astype('f') #1/√nの標準偏差の分布を初期値として使う\n",
    "        rnn_Wh = (rn(H, H) / np.sqrt(H)).astype('f') #1/√nの標準偏差の分布を初期値として使う\n",
    "        rnn_b = np.zeros(H).astype('f') #バイアスとしての初期値は\"0\"の初期値として設定\n",
    "        affine_W = (rn(H, V) / np.sqrt(H)).astype('f')\n",
    "        affine_b = np.zeros(V).astype('f')\n",
    " \n",
    "        # レイヤの生成\n",
    "        self.layers = [\n",
    "            TimeEmbedding(embed_W), #embedding層\n",
    "            TimeRNN(rnn_Wx, rnn_Wh, rnn_b, stateful=True), #RNN層、statefulはTrueにすることでTimeRNNレイヤは前の隠れ状態を引き継ぐことができるようになる。\n",
    "            TimeAffine(affine_W, affine_b) #全結合層\n",
    "        ]\n",
    "        self.loss_layer = TimeSoftmaxWithLoss() #ソフトマックス層\n",
    "        self.rnn_layer = self.layers[1] #RNN層を別に準備\n",
    "\n",
    "        # すべての重みと勾配をリストにまとめる\n",
    "        self.params, self.grads = [], []\n",
    "        for layer in self.layers:\n",
    "            self.params += layer.params\n",
    "            self.grads += layer.grads\n",
    "\n",
    "    def forward(self, xs, ts):\n",
    "        for layer in self.layers:\n",
    "            xs = layer.forward(xs)\n",
    "        loss = self.loss_layer.forward(xs, ts)\n",
    "        return loss\n",
    "\n",
    "    def backward(self, dout=1):\n",
    "        dout = self.loss_layer.backward(dout)\n",
    "        for layer in reversed(self.layers):\n",
    "            dout = layer.backward(dout)\n",
    "        return dout\n",
    "\n",
    "    def reset_state(self):\n",
    "        self.rnn_layer.reset_state()"
   ]
  },
  {
   "cell_type": "markdown",
   "id": "28d5dca1-551b-46ba-8fc8-7eea1311b5cb",
   "metadata": {},
   "source": [
    "#### \n",
    "1. クラスの初期化 `__init__:\n",
    "   - モデルの各層の重みとバイアスを初期化します。\n",
    "   - `vocab_size`は語彙のサイズ、`wordvec_size`は単語の埋め込み（Word Embedding）の次元数、`hidden_size`はRNNの隠れ層の次元数を指定します。\n",
    "   - 重み行列の初期化には、ランダムな値を用いますが、一部の行列は特定の方法で初期化されています。たとえば、埋め込み層の重みは小さなランダムな値で初期化され、RNN層の重みは平方根の逆数によってスケーリングされた値を使用して初期化されます。\n",
    "\n",
    "2. レイヤの生成:\n",
    "   - モデルの各層を生成し、リストとして保持します。このモデルには以下の層が含まれています。\n",
    "     - `TimeEmbedding`: 埋め込み層\n",
    "     - `TimeRNN`: リカレントニューラルネットワーク（RNN）層\n",
    "     - `TimeAffine`: 全結合層\n",
    "   - また、損失計算のための`TimeSoftmaxWithLoss`層も定義されています。\n",
    "\n",
    "3. 重みと勾配の管理:\n",
    "   - すべての層の重みと勾配は、`self.params`と`self.grads`というリストにまとめて管理されます。これにより、逆伝播の際に各層の重みを更新できます。\n",
    "\n",
    "4. forward`メソッド:\n",
    "   - フォワードパスを実行します。与えられた入力データ（`xs`）を埋め込み層、RNN層、全結合層の順に通して処理し、最終的な損失を計算します。\n",
    "   - このメソッドはモデルの学習時に使用され、損失を返します。\n",
    "\n",
    "5. backwardメソッド:\n",
    "   - バックワードパスを実行し、勾配を計算します。損失の勾配（`dout`）を受け取り、各層の逆伝播を行い、重みの勾配を計算します。\n",
    "   - このメソッドは誤差逆伝播法を用いた学習時に使用されます。\n",
    "\n",
    "6.　reset_state`メソッド:\n",
    "   - RNN層の状態をリセットするためのメソッドです。RNNは時間方向に展開され、過去の隠れ状態を保持することがあります。このメソッドは、新しいシーケンスを処理する際にRNNの状態をリセットするために使用されます。\n",
    "\n",
    "このクラスは、言語モデルの訓練やテキスト生成などのタスクに使用できる基本的な機能を提供します。他のコードと組み合わせて、自然言語処理タスクを解決するための完全なモデルを構築することができます。"
   ]
  },
  {
   "cell_type": "markdown",
   "id": "b28105bf-0bbc-4a54-a300-dfc00cc9475d",
   "metadata": {
    "tags": []
   },
   "source": [
    "### Xavierの初期値"
   ]
  },
  {
   "cell_type": "markdown",
   "id": "c224a68d-8f80-4def-b2c0-41abe54b1832",
   "metadata": {},
   "source": [
    "##### 重みは、最後に\"0\"に近づけば近づくほどいい学習結果となる。そのため初期値として用いる値としては、\"0\"として考えたくなる。ただ、これでは重みの表現力に問題が生じる。①すべての重みの初期値を\"0\"にして伝播すると、順伝播が同じ値となってしまい。逆伝播して重みを探索更新する際に同じように更新されて表現の幅が狭くなってしまう。②逆伝播の値が\"0\"に近いと重みの更新量が小さくなって、重みが停滞して学習が進まず、誤差の最小値にたどり着くのに時間がかかってしまう。"
   ]
  },
  {
   "cell_type": "markdown",
   "id": "7ccf5225-011b-4756-946f-204b75e67e8a",
   "metadata": {},
   "source": [
    "##### 解決策の1つがXavierの初期値という設定方法になる。\n",
    "##### "
   ]
  },
  {
   "cell_type": "markdown",
   "id": "c4ae4e33-88ad-4f8b-a229-59c3db171d4a",
   "metadata": {},
   "source": [
    "### 言語モデルの評価"
   ]
  },
  {
   "cell_type": "markdown",
   "id": "054476d5-80a1-4993-bd46-89bf46cc7ff6",
   "metadata": {},
   "source": [
    "言語モデルの評価において、Perplexity（パープレキシティ）は一般的に使用される指標の1つです。Perplexityは、言語モデルが与えられたテキストデータをどれだけよく予測できるかを示す尺度です。Perplexityが低いほど、モデルはテキストデータをより正確に予測できると言えます。\n",
    "\n",
    "Perplexityは、言語モデルが確率分布を出力する場合に使用されます。モデルが与えられた単語の系列（テキスト）に対して、それぞれの単語の予測確率を計算し、それらの確率の逆数を取ります。具体的には以下のように計算されます：\n",
    "\n",
    "テストデータセットを考えます。このデータセットは、モデルの性能を評価するためのテキストデータです。\n",
    "\n",
    "テストデータセット内の各単語に対して、言語モデルによる予測確率を計算します。つまり、モデルにとってその単語が次に来る確率を求めます。\n",
    "\n",
    "各単語の予測確率の逆数を計算し、これらの逆数の平均を取ります。これがPerplexityの値となります。\n",
    "\n",
    "\n",
    "Perplexityの直感的な理解は、モデルが与えられたテキストデータの単語をどれだけ予測しやすいかを示すものです。Perplexityが低い場合、モデルはテキストデータをより正確に予測でき、より高い確信度で単語を生成できると言えます。\n"
   ]
  },
  {
   "cell_type": "code",
   "execution_count": null,
   "id": "5308778b-004d-449c-8b87-2467d9753d2c",
   "metadata": {},
   "outputs": [],
   "source": [
    "# coding: utf-8\n",
    "import sys\n",
    "sys.path.append('..')\n",
    "import matplotlib.pyplot as plt\n",
    "import numpy as np\n",
    "from common.optimizer import SGD\n",
    "from dataset import ptb\n",
    "from simple_rnnlm import SimpleRnnlm\n",
    "\n",
    "\n",
    "# ハイパーパラメータの設定\n",
    "batch_size = 10\n",
    "wordvec_size = 100\n",
    "hidden_size = 100\n",
    "time_size = 5  # Truncated BPTTの展開する時間サイズ\n",
    "lr = 0.1\n",
    "max_epoch = 100\n",
    "\n",
    "# 学習データの読み込み（データセットを小さくする）\n",
    "corpus, word_to_id, id_to_word = ptb.load_data('train')\n",
    "corpus_size = 1000\n",
    "corpus = corpus[:corpus_size]\n",
    "vocab_size = int(max(corpus) + 1)\n",
    "\n",
    "xs = corpus[:-1]  # 入力\n",
    "ts = corpus[1:]  # 出力（教師ラベル）\n",
    "data_size = len(xs)\n",
    "print('corpus size: %d, vocabulary size: %d' % (corpus_size, vocab_size))\n",
    "\n",
    "# 学習時に使用する変数\n",
    "max_iters = data_size // (batch_size * time_size)\n",
    "time_idx = 0\n",
    "total_loss = 0\n",
    "loss_count = 0\n",
    "ppl_list = []\n",
    "\n",
    "# モデルの生成\n",
    "model = SimpleRnnlm(vocab_size, wordvec_size, hidden_size)\n",
    "optimizer = SGD(lr)\n",
    "\n",
    "\n",
    "# １ミニバッチの各サンプルの読み込み開始位置を計算\n",
    "jump = (corpus_size - 1) // batch_size\n",
    "offsets = [i * jump for i in range(batch_size)]\n",
    "\n",
    "for epoch in range(max_epoch):\n",
    "    for iter in range(max_iters):\n",
    "        # ２ミニバッチの取得\n",
    "        batch_x = np.empty((batch_size, time_size), dtype='i')\n",
    "        batch_t = np.empty((batch_size, time_size), dtype='i')\n",
    "        for t in range(time_size):\n",
    "            for i, offset in enumerate(offsets):\n",
    "                batch_x[i, t] = xs[(offset + time_idx) % data_size]\n",
    "                batch_t[i, t] = ts[(offset + time_idx) % data_size]\n",
    "            time_idx += 1\n",
    "\n",
    "        # 勾配を求め、パラメータを更新\n",
    "        loss = model.forward(batch_x, batch_t)\n",
    "        model.backward()\n",
    "        optimizer.update(model.params, model.grads)\n",
    "        total_loss += loss\n",
    "        loss_count += 1\n",
    "\n",
    "    # 3エポックごとにパープレキシティの評価\n",
    "    ppl = np.exp(total_loss / loss_count)\n",
    "    print('| epoch %d | perplexity %.2f'\n",
    "          % (epoch+1, ppl))\n",
    "    ppl_list.append(float(ppl))\n",
    "    total_loss, loss_count = 0, 0\n",
    "\n",
    "# グラフの描画\n",
    "x = np.arange(len(ppl_list))\n",
    "plt.plot(x, ppl_list, label='train')\n",
    "plt.xlabel('epochs')\n",
    "plt.ylabel('perplexity')\n",
    "plt.show()"
   ]
  },
  {
   "cell_type": "markdown",
   "id": "10033e3a-928c-4940-9057-e17f755ff4af",
   "metadata": {},
   "source": [
    "##### 1で各バッチでデータを読み込む開始位置をオフセットして読み込ませてます。この処理が前述のTruncated BPTTである。\n",
    "##### 2は、time_idexでずらしながらシーケンシャルにデータをコーパスから取得している。\n",
    "##### 3で、パープレキシティの計算を行っている。"
   ]
  },
  {
   "cell_type": "markdown",
   "id": "961e7f40-3d02-4601-933a-3c3560254e84",
   "metadata": {},
   "source": [
    "### 6.1 RNNの問題点"
   ]
  },
  {
   "cell_type": "code",
   "execution_count": 2,
   "id": "8630ccfa-1f05-4124-a64b-3bba43e37658",
   "metadata": {
    "jupyter": {
     "source_hidden": true
    },
    "tags": []
   },
   "outputs": [
    {
     "name": "stdout",
     "output_type": "stream",
     "text": [
      "[2.4684068094579303, 3.3357049741610365, 4.783279375373182, 6.279587332087612, 8.080776465019053, 10.251163032292936, 12.936063506609896, 16.276861327786712, 20.45482961834598, 25.688972842084684, 32.25315718048336, 40.48895641683869, 50.8244073070191, 63.79612654485427, 80.07737014308985, 100.5129892205125, 126.16331847536823, 158.35920648258823, 198.7710796761195, 249.495615421267]\n"
     ]
    },
    {
     "data": {
      "image/png": "[encoded data removed]",
      "text/plain": [
       "<Figure size 432x288 with 1 Axes>"
      ]
     },
     "metadata": {
      "needs_background": "light"
     },
     "output_type": "display_data"
    }
   ],
   "source": [
    "# coding: utf-8\n",
    "import numpy as np\n",
    "import matplotlib.pyplot as plt\n",
    "\n",
    "\n",
    "N = 2  # ミニバッチサイズ\n",
    "H = 3  # 隠れ状態ベクトルの次元数\n",
    "T = 20  # 時系列データの長さ\n",
    "\n",
    "dh = np.ones((N, H))\n",
    "\n",
    "np.random.seed(3)\n",
    "\n",
    "Wh = np.random.randn(H, H)\n",
    "#Wh = np.random.randn(H, H) * 0.5\n",
    "\n",
    "norm_list = []\n",
    "for t in range(T):\n",
    "    dh = np.dot(dh, Wh.T)\n",
    "    norm = np.sqrt(np.sum(dh**2)) / N\n",
    "    norm_list.append(norm)\n",
    "\n",
    "print(norm_list)\n",
    "\n",
    "# グラフの描画\n",
    "plt.plot(np.arange(len(norm_list)), norm_list)\n",
    "plt.xticks([0, 4, 9, 14, 19], [1, 5, 10, 15, 20])\n",
    "plt.xlabel('time step')\n",
    "plt.ylabel('norm')\n",
    "plt.show()"
   ]
  },
  {
   "cell_type": "markdown",
   "id": "7e5cd21d-7673-42e7-97b0-fa31d228e3c5",
   "metadata": {},
   "source": [
    "勾配爆発（Gradient Explosion）:\n",
    "\n",
    "勾配爆発は、反対に、勾配が非常に急激に増加し、非常に大きな値を取ることがある問題です。これは、RNNの再帰式において非線形活性化関数が大きな値を持つ場合に発生します。\n",
    "シグモイドやtanhなどの非線形活性化関数は、入力が大きい場合に対して微分が非常に小さくなる特性があります。しかし、もし非線形関数の微分が1より大きな値を持つ場合（例えば、ReLU関数）、勾配が急激に増加し、数値的に不安定な状態になります。\n",
    "勾配が爆発すると、更新される重みが非常に大きくなり、モデルの収束性が損なわれ、訓練が不安定になります。"
   ]
  },
  {
   "cell_type": "code",
   "execution_count": 3,
   "id": "c7663488-ac3b-4c2e-bd5a-8e45418b8006",
   "metadata": {
    "jupyter": {
     "source_hidden": true
    },
    "tags": []
   },
   "outputs": [
    {
     "name": "stdout",
     "output_type": "stream",
     "text": [
      "[1.2342034047289652, 0.8339262435402591, 0.5979099219216477, 0.39247420825547574, 0.2525242645318454, 0.16017442237957713, 0.10106299614538981, 0.06358148956166684, 0.03995083909833199, 0.025086887541098325, 0.015748611904532892, 0.009884999125204758, 0.006204151282595105, 0.003893806551809953, 0.002443767399386287, 0.0015337065005571365, 0.0009625497320203265, 0.0006040924319556741, 0.00037912574706291106, 0.00023793756048323344]\n"
     ]
    },
    {
     "data": {
      "image/png": "[encoded data removed]",
      "text/plain": [
       "<Figure size 432x288 with 1 Axes>"
      ]
     },
     "metadata": {
      "needs_background": "light"
     },
     "output_type": "display_data"
    }
   ],
   "source": [
    "# coding: utf-8\n",
    "import numpy as np\n",
    "import matplotlib.pyplot as plt\n",
    "\n",
    "\n",
    "N = 2  # ミニバッチサイズ\n",
    "H = 3  # 隠れ状態ベクトルの次元数\n",
    "T = 20  # 時系列データの長さ\n",
    "\n",
    "dh = np.ones((N, H))\n",
    "\n",
    "np.random.seed(3)\n",
    "Wh = np.random.randn(H, H) * 0.5\n",
    "\n",
    "norm_list = []\n",
    "for t in range(T):\n",
    "    dh = np.dot(dh, Wh.T)\n",
    "    norm = np.sqrt(np.sum(dh**2)) / N\n",
    "    norm_list.append(norm)\n",
    "\n",
    "print(norm_list)\n",
    "\n",
    "# グラフの描画\n",
    "plt.plot(np.arange(len(norm_list)), norm_list)\n",
    "plt.xticks([0, 4, 9, 14, 19], [1, 5, 10, 15, 20])\n",
    "plt.xlabel('time step')\n",
    "plt.ylabel('norm')\n",
    "plt.show()"
   ]
  },
  {
   "cell_type": "markdown",
   "id": "440beca0-d2ff-44c1-b5f5-f8fea86eefec",
   "metadata": {},
   "source": [
    "勾配消失（Gradient Vanishing）:\n",
    "\n",
    "勾配消失は、RNNモデルが長い系列データを扱う際によく発生します。RNNは過去の情報を保持するため、長い系列の場合、過去の情報が現在の予測にほとんど影響を与えなくなります。\n",
    "配が時間ステップをさかのぼって伝播されます。しかし、非線形活性化関数（特にシグモイド関数）の微分はその入力値に対して最大値が1以下であるため、時間が経過するにつれて勾配が繰り返し小さくなり、最終的にゼロに近づきます。\n",
    "結果として、過去の情報が現在の予測にほとんど影響を与えなくなり、モデルの長期的な依存性を捉えることができなくなります。"
   ]
  },
  {
   "cell_type": "markdown",
   "id": "d79b864c-6664-4be3-93e0-7b84e720d24e",
   "metadata": {},
   "source": [
    "#### 勾配消失と勾配爆発の対応策"
   ]
  },
  {
   "cell_type": "markdown",
   "id": "5a2e318c-7682-4b4b-a73c-febec79ad0e7",
   "metadata": {
    "tags": []
   },
   "source": [
    "勾配消失と勾配爆発を克服するためのいくつかのアプローチが存在します。例えば：\n",
    "\n",
    "勾配クリッピング（Gradient Clipping）：勾配が一定の閾値を超えないようにクリップする方法です。これにより、勾配爆発を防ぐのに役立ちます。\n",
    "\n",
    "ゲート付きRNN（GRUやLSTM）：通常のRNNよりも長期の依存性をキャプチャするために設計された、ゲート制御されたリカレントユニットを使用することがあります。\n",
    "\n",
    "Layer NormalizationやBatch Normalization：層ごとの正規化を使用して、勾配の安定性を向上させる方法です。\n",
    "\n",
    "適切な初期化方法：重みの初期値設定方法を工夫することで、勾配消失や勾配爆発を軽減することができます。"
   ]
  },
  {
   "cell_type": "code",
   "execution_count": 5,
   "id": "ffbfc988-22f1-482b-9648-c2532ae35fcc",
   "metadata": {},
   "outputs": [
    {
     "name": "stdout",
     "output_type": "stream",
     "text": [
      "before: [6.49144048 2.78487283 6.76254902 5.90862817 0.23981882 5.58854088\n",
      " 2.59252447 4.15101197 2.83525082]\n",
      "after: [1.49503731 0.64138134 1.55747605 1.36081038 0.05523244 1.28709139\n",
      " 0.59708178 0.95601551 0.65298384]\n"
     ]
    }
   ],
   "source": [
    "#勾配クリッピングのコーディング\n",
    "# coding: utf-8\n",
    "import numpy as np\n",
    "\n",
    "\n",
    "dW1 = np.random.rand(3, 3) * 10\n",
    "dW2 = np.random.rand(3, 3) * 10\n",
    "grads = [dW1, dW2]\n",
    "max_norm = 5.0\n",
    "\n",
    "\n",
    "def clip_grads(grads, max_norm):\n",
    "    total_norm = 0\n",
    "    for grad in grads:\n",
    "        total_norm += np.sum(grad ** 2)\n",
    "    total_norm = np.sqrt(total_norm)\n",
    "\n",
    "    rate = max_norm / (total_norm + 1e-6)\n",
    "    if rate < 1:\n",
    "        for grad in grads:\n",
    "            grad *= rate\n",
    "\n",
    "\n",
    "print('before:', dW1.flatten())\n",
    "clip_grads(grads, max_norm)\n",
    "print('after:', dW1.flatten())"
   ]
  },
  {
   "cell_type": "code",
   "execution_count": null,
   "id": "07ecee25-f966-4b9f-9652-318877ea6b56",
   "metadata": {},
   "outputs": [],
   "source": []
  }
 ],
 "metadata": {
  "kernelspec": {
   "display_name": "Python 3 (ipykernel)",
   "language": "python",
   "name": "python3"
  },
  "language_info": {
   "codemirror_mode": {
    "name": "ipython",
    "version": 3
   },
   "file_extension": ".py",
   "mimetype": "text/x-python",
   "name": "python",
   "nbconvert_exporter": "python",
   "pygments_lexer": "ipython3",
   "version": "3.9.12"
  }
 },
 "nbformat": 4,
 "nbformat_minor": 5
}
